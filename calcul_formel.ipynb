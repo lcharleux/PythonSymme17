{
 "cells": [
  {
   "cell_type": "markdown",
   "metadata": {},
   "source": [
    "# Un peu de calcul formel avec Sympy"
   ]
  },
  {
   "cell_type": "code",
   "execution_count": 2,
   "metadata": {
    "collapsed": false
   },
   "outputs": [],
   "source": [
    "import numpy as np\n",
    "import sympy as sp\n",
    "sp.init_printing(use_latex = \"mathjax\")"
   ]
  },
  {
   "cell_type": "code",
   "execution_count": 17,
   "metadata": {
    "collapsed": false
   },
   "outputs": [
    {
     "data": {
      "text/latex": [
       "$$\\left ( \\left[\\begin{matrix}u_{x}\\\\u_{y}\\\\u_{z}\\end{matrix}\\right], \\quad \\left[\\begin{matrix}v_{x}\\\\v_{y}\\\\v_{z}\\end{matrix}\\right]\\right )$$"
      ],
      "text/plain": [
       "⎛⎡uₓ ⎤, ⎡vₓ ⎤⎞\n",
       "⎜⎢   ⎥  ⎢   ⎥⎟\n",
       "⎜⎢u_y⎥  ⎢v_y⎥⎟\n",
       "⎜⎢   ⎥  ⎢   ⎥⎟\n",
       "⎝⎣u_z⎦  ⎣v_z⎦⎠"
      ]
     },
     "execution_count": 17,
     "metadata": {},
     "output_type": "execute_result"
    }
   ],
   "source": [
    "ux, uy, uz, vx, vy, vz = sp.symbols(\"u_x u_y u_z v_x v_y v_z\")\n",
    "u = sp.Matrix([ux,uy,uz])\n",
    "v = sp.Matrix([vx,vy,vz])\n",
    "u, v"
   ]
  },
  {
   "cell_type": "code",
   "execution_count": 20,
   "metadata": {
    "collapsed": false
   },
   "outputs": [
    {
     "data": {
      "text/latex": [
       "$$\\left[\\begin{matrix}u_{y} v_{z} - u_{z} v_{y}\\\\- u_{x} v_{z} + u_{z} v_{x}\\\\u_{x} v_{y} - u_{y} v_{x}\\end{matrix}\\right]$$"
      ],
      "text/plain": [
       "⎡u_y⋅v_z - u_z⋅v_y⎤\n",
       "⎢                 ⎥\n",
       "⎢-uₓ⋅v_z + u_z⋅vₓ ⎥\n",
       "⎢                 ⎥\n",
       "⎣ uₓ⋅v_y - u_y⋅vₓ ⎦"
      ]
     },
     "execution_count": 20,
     "metadata": {},
     "output_type": "execute_result"
    }
   ],
   "source": [
    "uv = u.cross(v)\n",
    "uv"
   ]
  },
  {
   "cell_type": "code",
   "execution_count": 29,
   "metadata": {
    "collapsed": false
   },
   "outputs": [
    {
     "data": {
      "text/latex": [
       "$$\\left [ \\left \\{ u_{y} : \\frac{u_{z} v_{y}}{v_{z}}\\right \\}\\right ]$$"
      ],
      "text/plain": [
       "⎡⎧     u_z⋅v_y⎫⎤\n",
       "⎢⎨u_y: ───────⎬⎥\n",
       "⎣⎩       v_z  ⎭⎦"
      ]
     },
     "execution_count": 29,
     "metadata": {},
     "output_type": "execute_result"
    }
   ],
   "source": [
    "sol = sp.solve(uv[0], [ux, uy])\n",
    "sol"
   ]
  },
  {
   "cell_type": "code",
   "execution_count": 34,
   "metadata": {
    "collapsed": false
   },
   "outputs": [
    {
     "data": {
      "text/latex": [
       "$$\\left[\\begin{matrix}0\\\\- u_{x} v_{z} + u_{z} v_{x}\\\\u_{x} v_{y} - \\frac{u_{z} v_{x}}{v_{z}} v_{y}\\end{matrix}\\right]$$"
      ],
      "text/plain": [
       "⎡         0         ⎤\n",
       "⎢                   ⎥\n",
       "⎢ -uₓ⋅v_z + u_z⋅vₓ  ⎥\n",
       "⎢                   ⎥\n",
       "⎢         u_z⋅vₓ⋅v_y⎥\n",
       "⎢uₓ⋅v_y - ──────────⎥\n",
       "⎣            v_z    ⎦"
      ]
     },
     "execution_count": 34,
     "metadata": {},
     "output_type": "execute_result"
    }
   ],
   "source": [
    "uv.subs(sol[0])\n"
   ]
  },
  {
   "cell_type": "code",
   "execution_count": 41,
   "metadata": {
    "collapsed": false
   },
   "outputs": [
    {
     "data": {
      "text/latex": [
       "$$\\sqrt{u_{x}^{2} \\left(v_{y}^{2} + v_{z}^{2}\\right) + u_{x} \\left(- 2 u_{y} v_{x} v_{y} - 2 u_{z} v_{x} v_{z}\\right) + u_{y}^{2} v_{x}^{2} + u_{y}^{2} v_{z}^{2} - 2 u_{y} u_{z} v_{y} v_{z} + u_{z}^{2} v_{x}^{2} + u_{z}^{2} v_{y}^{2}}$$"
      ],
      "text/plain": [
       "   ___________________________________________________________________________\n",
       "  ╱   2 ⎛   2      2⎞                                          2   2      2   \n",
       "╲╱  uₓ ⋅⎝v_y  + v_z ⎠ + uₓ⋅(-2⋅u_y⋅vₓ⋅v_y - 2⋅u_z⋅vₓ⋅v_z) + u_y ⋅vₓ  + u_y ⋅v_\n",
       "\n",
       "______________________________________________\n",
       " 2                          2   2      2    2 \n",
       "z  - 2⋅u_y⋅u_z⋅v_y⋅v_z + u_z ⋅vₓ  + u_z ⋅v_y  "
      ]
     },
     "execution_count": 41,
     "metadata": {},
     "output_type": "execute_result"
    }
   ],
   "source": [
    "sp.sqrt((uv.dot(uv))).simplify().factor(ux)"
   ]
  },
  {
   "cell_type": "code",
   "execution_count": null,
   "metadata": {
    "collapsed": true
   },
   "outputs": [],
   "source": []
  }
 ],
 "metadata": {
  "kernelspec": {
   "display_name": "Python 2",
   "language": "python",
   "name": "python2"
  },
  "language_info": {
   "codemirror_mode": {
    "name": "ipython",
    "version": 2
   },
   "file_extension": ".py",
   "mimetype": "text/x-python",
   "name": "python",
   "nbconvert_exporter": "python",
   "pygments_lexer": "ipython2",
   "version": "2.7.10"
  }
 },
 "nbformat": 4,
 "nbformat_minor": 0
}
