{
 "cells": [
  {
   "cell_type": "markdown",
   "metadata": {},
   "source": [
    "# Traitement de données\n",
    "\n",
    "## Création des données\n",
    "\n"
   ]
  },
  {
   "cell_type": "code",
   "execution_count": 26,
   "metadata": {
    "collapsed": false
   },
   "outputs": [],
   "source": [
    "import numpy as np\n",
    "import pandas as pd\n",
    "import matplotlib.pyplot as plt\n",
    "import os\n",
    "%matplotlib nbagg"
   ]
  },
  {
   "cell_type": "code",
   "execution_count": 39,
   "metadata": {
    "collapsed": false
   },
   "outputs": [],
   "source": [
    "# Creation du repertoire\n",
    "if \"data\" not in os.listdir(\"./\"):\n",
    "     os.mkdir(\"data\")\n",
    "        \n",
    "n = 1000 # Nombre de points\n",
    "nt = 10    # Nombre d'essais\n",
    "t = np.linspace(0., 10., n) # Temps\n",
    "d = np.linspace(0., 1., n) # Deplacement\n",
    "for i in range(nt):\n",
    "    k = np.random.rand()  \n",
    "    f = k * d**2 + np.random.rand(n) * .01\n",
    "    data = pd.DataFrame({\"t\":t, \"d\":d, \"f\":f}) \n",
    "    data.to_csv(\"data/test_{0}.csv\".format(i)) # Sauvegarde csv\n",
    "    data.to_excel(\"data/test_{0}.xls\".format(i)) # Sauvgarde xls\n",
    "  "
   ]
  },
  {
   "cell_type": "code",
   "execution_count": 50,
   "metadata": {
    "collapsed": false
   },
   "outputs": [
    {
     "data": {
      "text/html": [
       "<div>\n",
       "<table border=\"1\" class=\"dataframe\">\n",
       "  <thead>\n",
       "    <tr style=\"text-align: right;\">\n",
       "      <th></th>\n",
       "      <th>d</th>\n",
       "      <th>f</th>\n",
       "      <th>t</th>\n",
       "    </tr>\n",
       "  </thead>\n",
       "  <tbody>\n",
       "    <tr>\n",
       "      <th>995</th>\n",
       "      <td>0.995996</td>\n",
       "      <td>0.424804</td>\n",
       "      <td>9.95996</td>\n",
       "    </tr>\n",
       "    <tr>\n",
       "      <th>996</th>\n",
       "      <td>0.996997</td>\n",
       "      <td>0.420128</td>\n",
       "      <td>9.96997</td>\n",
       "    </tr>\n",
       "    <tr>\n",
       "      <th>997</th>\n",
       "      <td>0.997998</td>\n",
       "      <td>0.423213</td>\n",
       "      <td>9.97998</td>\n",
       "    </tr>\n",
       "    <tr>\n",
       "      <th>998</th>\n",
       "      <td>0.998999</td>\n",
       "      <td>0.421525</td>\n",
       "      <td>9.98999</td>\n",
       "    </tr>\n",
       "    <tr>\n",
       "      <th>999</th>\n",
       "      <td>1.000000</td>\n",
       "      <td>0.426997</td>\n",
       "      <td>10.00000</td>\n",
       "    </tr>\n",
       "  </tbody>\n",
       "</table>\n",
       "</div>"
      ],
      "text/plain": [
       "            d         f         t\n",
       "995  0.995996  0.424804   9.95996\n",
       "996  0.996997  0.420128   9.96997\n",
       "997  0.997998  0.423213   9.97998\n",
       "998  0.998999  0.421525   9.98999\n",
       "999  1.000000  0.426997  10.00000"
      ]
     },
     "execution_count": 50,
     "metadata": {},
     "output_type": "execute_result"
    }
   ],
   "source": [
    "path = \"data/test_0.csv\" # je veux lire ça !\n",
    "pd.read_csv(path, index_col = 0)\n",
    "\n",
    "class Essai(object):\n",
    "    def __init__(self, path): #Le constructeur \n",
    "        self.data = pd.read_csv(path, index_col = 0)\n",
    "    \n",
    "    \n",
    "    \n",
    "e0 = Essai(\"data/test_0.csv\")\n",
    "e1 = Essai(\"data/test_1.csv\")\n"
   ]
  },
  {
   "cell_type": "code",
   "execution_count": 24,
   "metadata": {
    "collapsed": false
   },
   "outputs": [
    {
     "data": {
      "text/plain": [
       "'Cours de maths: lapin = 5'"
      ]
     },
     "execution_count": 24,
     "metadata": {},
     "output_type": "execute_result"
    }
   ],
   "source": [
    "\"Cours de maths: {0} = {1}\".format(\"lapin\",5)"
   ]
  },
  {
   "cell_type": "code",
   "execution_count": 34,
   "metadata": {
    "collapsed": false
   },
   "outputs": [],
   "source": [
    "if \"data\" not in os.listdir(\"./\"):\n",
    "     os.mkdir(\"data\")"
   ]
  },
  {
   "cell_type": "code",
   "execution_count": 63,
   "metadata": {
    "collapsed": false
   },
   "outputs": [
    {
     "ename": "AttributeError",
     "evalue": "can't set attribute",
     "output_type": "error",
     "traceback": [
      "\u001b[1;31m---------------------------------------------------------------------------\u001b[0m",
      "\u001b[1;31mAttributeError\u001b[0m                            Traceback (most recent call last)",
      "\u001b[1;32m<ipython-input-63-a3daf3a6e0ce>\u001b[0m in \u001b[0;36m<module>\u001b[1;34m()\u001b[0m\n\u001b[0;32m     23\u001b[0m \u001b[0mv\u001b[0m\u001b[1;33m.\u001b[0m\u001b[0mnorme\u001b[0m\u001b[1;33m(\u001b[0m\u001b[1;33m)\u001b[0m\u001b[1;33m\u001b[0m\u001b[0m\n\u001b[0;32m     24\u001b[0m \u001b[1;33m\u001b[0m\u001b[0m\n\u001b[1;32m---> 25\u001b[1;33m \u001b[0mv\u001b[0m\u001b[1;33m.\u001b[0m\u001b[0mn\u001b[0m \u001b[1;33m=\u001b[0m \u001b[1;36m5\u001b[0m\u001b[1;33m\u001b[0m\u001b[0m\n\u001b[0m",
      "\u001b[1;31mAttributeError\u001b[0m: can't set attribute"
     ]
    }
   ],
   "source": [
    "# Le vecteur\n",
    "class Vecteur(object):\n",
    "    def __init__(self, x, y, z):\n",
    "        self.x = x\n",
    "        self.y = y\n",
    "        self.z = z\n",
    "    \n",
    "    def norme(self):\n",
    "        return (self.x**2 + self.y**2 + self.z**2)**.5\n",
    "    \n",
    "    def normaliser(self):\n",
    "        n = self.norme()\n",
    "        self.x = self.x / n\n",
    "        self.y /= n\n",
    "        self.z /= n\n",
    "    \n",
    "    n = property(norme)\n",
    "    \n",
    "        \n",
    "        \n",
    "v = Vecteur(1, 0, 2)   \n",
    "v.x =1000\n",
    "v.norme()\n",
    "\n",
    "v.n = 5"
   ]
  },
  {
   "cell_type": "code",
   "execution_count": 58,
   "metadata": {
    "collapsed": false
   },
   "outputs": [
    {
     "data": {
      "text/plain": [
       "1.0"
      ]
     },
     "execution_count": 58,
     "metadata": {},
     "output_type": "execute_result"
    }
   ],
   "source": [
    "v.normaliser()\n",
    "v.norme()"
   ]
  },
  {
   "cell_type": "code",
   "execution_count": 59,
   "metadata": {
    "collapsed": false
   },
   "outputs": [
    {
     "data": {
      "text/plain": [
       "0.447213595499958"
      ]
     },
     "execution_count": 59,
     "metadata": {},
     "output_type": "execute_result"
    }
   ],
   "source": [
    "v.x"
   ]
  },
  {
   "cell_type": "code",
   "execution_count": null,
   "metadata": {
    "collapsed": true
   },
   "outputs": [],
   "source": []
  }
 ],
 "metadata": {
  "kernelspec": {
   "display_name": "Python 2",
   "language": "python",
   "name": "python2"
  },
  "language_info": {
   "codemirror_mode": {
    "name": "ipython",
    "version": 2
   },
   "file_extension": ".py",
   "mimetype": "text/x-python",
   "name": "python",
   "nbconvert_exporter": "python",
   "pygments_lexer": "ipython2",
   "version": "2.7.10"
  }
 },
 "nbformat": 4,
 "nbformat_minor": 0
}
